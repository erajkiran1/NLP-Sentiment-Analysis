{
 "cells": [
  {
   "cell_type": "code",
   "execution_count": 4,
   "id": "eca6c410",
   "metadata": {},
   "outputs": [],
   "source": [
    "import pandas as pd"
   ]
  },
  {
   "cell_type": "code",
   "execution_count": 5,
   "id": "23e0eab6",
   "metadata": {},
   "outputs": [],
   "source": [
    "df = pd.read_csv(r'C:\\Users\\pavan\\OneDrive\\Desktop\\masters project\\SPAM text message 20170820 - Data (1).csv')"
   ]
  },
  {
   "cell_type": "code",
   "execution_count": 6,
   "id": "c0df3c7e",
   "metadata": {},
   "outputs": [
    {
     "data": {
      "text/html": [
       "<div>\n",
       "<style scoped>\n",
       "    .dataframe tbody tr th:only-of-type {\n",
       "        vertical-align: middle;\n",
       "    }\n",
       "\n",
       "    .dataframe tbody tr th {\n",
       "        vertical-align: top;\n",
       "    }\n",
       "\n",
       "    .dataframe thead th {\n",
       "        text-align: right;\n",
       "    }\n",
       "</style>\n",
       "<table border=\"1\" class=\"dataframe\">\n",
       "  <thead>\n",
       "    <tr style=\"text-align: right;\">\n",
       "      <th></th>\n",
       "      <th>Category</th>\n",
       "      <th>Message</th>\n",
       "    </tr>\n",
       "  </thead>\n",
       "  <tbody>\n",
       "    <tr>\n",
       "      <th>0</th>\n",
       "      <td>ham</td>\n",
       "      <td>Go until jurong point, crazy.. Available only ...</td>\n",
       "    </tr>\n",
       "    <tr>\n",
       "      <th>1</th>\n",
       "      <td>ham</td>\n",
       "      <td>Ok lar... Joking wif u oni...</td>\n",
       "    </tr>\n",
       "    <tr>\n",
       "      <th>2</th>\n",
       "      <td>spam</td>\n",
       "      <td>Free entry in 2 a wkly comp to win FA Cup fina...</td>\n",
       "    </tr>\n",
       "    <tr>\n",
       "      <th>3</th>\n",
       "      <td>ham</td>\n",
       "      <td>U dun say so early hor... U c already then say...</td>\n",
       "    </tr>\n",
       "    <tr>\n",
       "      <th>4</th>\n",
       "      <td>ham</td>\n",
       "      <td>Nah I don't think he goes to usf, he lives aro...</td>\n",
       "    </tr>\n",
       "  </tbody>\n",
       "</table>\n",
       "</div>"
      ],
      "text/plain": [
       "  Category                                            Message\n",
       "0      ham  Go until jurong point, crazy.. Available only ...\n",
       "1      ham                      Ok lar... Joking wif u oni...\n",
       "2     spam  Free entry in 2 a wkly comp to win FA Cup fina...\n",
       "3      ham  U dun say so early hor... U c already then say...\n",
       "4      ham  Nah I don't think he goes to usf, he lives aro..."
      ]
     },
     "execution_count": 6,
     "metadata": {},
     "output_type": "execute_result"
    }
   ],
   "source": [
    "df.head()"
   ]
  },
  {
   "cell_type": "code",
   "execution_count": 7,
   "id": "4902f382",
   "metadata": {},
   "outputs": [
    {
     "data": {
      "text/plain": [
       "Category    0\n",
       "Message     0\n",
       "dtype: int64"
      ]
     },
     "execution_count": 7,
     "metadata": {},
     "output_type": "execute_result"
    }
   ],
   "source": [
    "df.isnull().sum()"
   ]
  },
  {
   "cell_type": "code",
   "execution_count": 8,
   "id": "4a729c44",
   "metadata": {},
   "outputs": [
    {
     "data": {
      "text/html": [
       "<div>\n",
       "<style scoped>\n",
       "    .dataframe tbody tr th:only-of-type {\n",
       "        vertical-align: middle;\n",
       "    }\n",
       "\n",
       "    .dataframe tbody tr th {\n",
       "        vertical-align: top;\n",
       "    }\n",
       "\n",
       "    .dataframe thead th {\n",
       "        text-align: right;\n",
       "    }\n",
       "</style>\n",
       "<table border=\"1\" class=\"dataframe\">\n",
       "  <thead>\n",
       "    <tr style=\"text-align: right;\">\n",
       "      <th></th>\n",
       "      <th>Category</th>\n",
       "      <th>Message</th>\n",
       "    </tr>\n",
       "  </thead>\n",
       "  <tbody>\n",
       "  </tbody>\n",
       "</table>\n",
       "</div>"
      ],
      "text/plain": [
       "Empty DataFrame\n",
       "Columns: [Category, Message]\n",
       "Index: []"
      ]
     },
     "execution_count": 8,
     "metadata": {},
     "output_type": "execute_result"
    }
   ],
   "source": [
    "df[df.duplicated() == 'True'] "
   ]
  },
  {
   "cell_type": "code",
   "execution_count": 9,
   "id": "79c4ccb3",
   "metadata": {},
   "outputs": [
    {
     "data": {
      "text/plain": [
       "0       False\n",
       "1       False\n",
       "2       False\n",
       "3       False\n",
       "4       False\n",
       "        ...  \n",
       "5567    False\n",
       "5568    False\n",
       "5569    False\n",
       "5570    False\n",
       "5571    False\n",
       "Length: 5572, dtype: bool"
      ]
     },
     "execution_count": 9,
     "metadata": {},
     "output_type": "execute_result"
    }
   ],
   "source": [
    "df.duplicated()"
   ]
  },
  {
   "cell_type": "code",
   "execution_count": 10,
   "id": "800f86e7",
   "metadata": {},
   "outputs": [],
   "source": [
    "#encoding label spam = 0 ham =1"
   ]
  },
  {
   "cell_type": "code",
   "execution_count": 11,
   "id": "a87f2f84",
   "metadata": {},
   "outputs": [],
   "source": [
    "df['Category'] = [1 if label == \"ham\" else 0 for label in df.Category]"
   ]
  },
  {
   "cell_type": "code",
   "execution_count": 12,
   "id": "5968b9ab",
   "metadata": {},
   "outputs": [
    {
     "data": {
      "text/html": [
       "<div>\n",
       "<style scoped>\n",
       "    .dataframe tbody tr th:only-of-type {\n",
       "        vertical-align: middle;\n",
       "    }\n",
       "\n",
       "    .dataframe tbody tr th {\n",
       "        vertical-align: top;\n",
       "    }\n",
       "\n",
       "    .dataframe thead th {\n",
       "        text-align: right;\n",
       "    }\n",
       "</style>\n",
       "<table border=\"1\" class=\"dataframe\">\n",
       "  <thead>\n",
       "    <tr style=\"text-align: right;\">\n",
       "      <th></th>\n",
       "      <th>Category</th>\n",
       "      <th>Message</th>\n",
       "    </tr>\n",
       "  </thead>\n",
       "  <tbody>\n",
       "    <tr>\n",
       "      <th>0</th>\n",
       "      <td>1</td>\n",
       "      <td>Go until jurong point, crazy.. Available only ...</td>\n",
       "    </tr>\n",
       "    <tr>\n",
       "      <th>1</th>\n",
       "      <td>1</td>\n",
       "      <td>Ok lar... Joking wif u oni...</td>\n",
       "    </tr>\n",
       "    <tr>\n",
       "      <th>2</th>\n",
       "      <td>0</td>\n",
       "      <td>Free entry in 2 a wkly comp to win FA Cup fina...</td>\n",
       "    </tr>\n",
       "    <tr>\n",
       "      <th>3</th>\n",
       "      <td>1</td>\n",
       "      <td>U dun say so early hor... U c already then say...</td>\n",
       "    </tr>\n",
       "    <tr>\n",
       "      <th>4</th>\n",
       "      <td>1</td>\n",
       "      <td>Nah I don't think he goes to usf, he lives aro...</td>\n",
       "    </tr>\n",
       "  </tbody>\n",
       "</table>\n",
       "</div>"
      ],
      "text/plain": [
       "   Category                                            Message\n",
       "0         1  Go until jurong point, crazy.. Available only ...\n",
       "1         1                      Ok lar... Joking wif u oni...\n",
       "2         0  Free entry in 2 a wkly comp to win FA Cup fina...\n",
       "3         1  U dun say so early hor... U c already then say...\n",
       "4         1  Nah I don't think he goes to usf, he lives aro..."
      ]
     },
     "execution_count": 12,
     "metadata": {},
     "output_type": "execute_result"
    }
   ],
   "source": [
    "df.head()"
   ]
  },
  {
   "cell_type": "code",
   "execution_count": 13,
   "id": "f74a6457",
   "metadata": {},
   "outputs": [],
   "source": [
    "from nltk.corpus import stopwords"
   ]
  },
  {
   "cell_type": "code",
   "execution_count": 14,
   "id": "808ee726",
   "metadata": {},
   "outputs": [
    {
     "name": "stderr",
     "output_type": "stream",
     "text": [
      "[nltk_data] Downloading package stopwords to\n",
      "[nltk_data]     C:\\Users\\pavan\\AppData\\Roaming\\nltk_data...\n",
      "[nltk_data]   Package stopwords is already up-to-date!\n",
      "[nltk_data] Downloading package punkt to\n",
      "[nltk_data]     C:\\Users\\pavan\\AppData\\Roaming\\nltk_data...\n",
      "[nltk_data]   Package punkt is already up-to-date!\n",
      "[nltk_data] Downloading package wordnet to\n",
      "[nltk_data]     C:\\Users\\pavan\\AppData\\Roaming\\nltk_data...\n",
      "[nltk_data]   Package wordnet is already up-to-date!\n"
     ]
    },
    {
     "data": {
      "text/plain": [
       "True"
      ]
     },
     "execution_count": 14,
     "metadata": {},
     "output_type": "execute_result"
    }
   ],
   "source": [
    "import nltk\n",
    "nltk.download('stopwords')\n",
    "nltk.download('punkt')\n",
    "nltk.download('wordnet')"
   ]
  },
  {
   "cell_type": "code",
   "execution_count": 15,
   "id": "6513e0a0",
   "metadata": {},
   "outputs": [],
   "source": [
    "import nltk as nlp"
   ]
  },
  {
   "cell_type": "code",
   "execution_count": 16,
   "id": "04c354dd",
   "metadata": {},
   "outputs": [],
   "source": [
    "lemmatize = nlp.WordNetLemmatizer()"
   ]
  },
  {
   "cell_type": "code",
   "execution_count": 17,
   "id": "45deb044",
   "metadata": {},
   "outputs": [],
   "source": [
    "s_w = set(stopwords.words(\"english\"))"
   ]
  },
  {
   "cell_type": "code",
   "execution_count": 18,
   "id": "5784fea7",
   "metadata": {},
   "outputs": [],
   "source": [
    "def remove_special_char(message):\n",
    "  message = re.sub(\"[^a-zA-Z]\",\" \",message)\n",
    "  return message"
   ]
  },
  {
   "cell_type": "code",
   "execution_count": 19,
   "id": "98acae8e",
   "metadata": {},
   "outputs": [],
   "source": [
    "def lower_char(message):\n",
    "  message = message.lower()\n",
    "  return message"
   ]
  },
  {
   "cell_type": "code",
   "execution_count": 20,
   "id": "09093cb7",
   "metadata": {},
   "outputs": [],
   "source": [
    "def split_words(message):\n",
    "  message = nlp.word_tokenize(message)\n",
    "  return message"
   ]
  },
  {
   "cell_type": "code",
   "execution_count": 21,
   "id": "90c446a0",
   "metadata": {},
   "outputs": [],
   "source": [
    "def remove_stopword(message):\n",
    "  return [message for message in message if not message in s_w]"
   ]
  },
  {
   "cell_type": "code",
   "execution_count": 22,
   "id": "3a603a17",
   "metadata": {},
   "outputs": [],
   "source": [
    "def lemmatizer_message(message):\n",
    "  message = [lemmatize.lemmatize(word) for word in message]\n",
    "  return message"
   ]
  },
  {
   "cell_type": "code",
   "execution_count": 23,
   "id": "8c374331",
   "metadata": {},
   "outputs": [],
   "source": [
    "def join_message(message):\n",
    "  message = \" \".join(message)\n",
    "  return message"
   ]
  },
  {
   "cell_type": "code",
   "execution_count": 24,
   "id": "9c8dc97f",
   "metadata": {},
   "outputs": [],
   "source": [
    "random = df.Message[10]"
   ]
  },
  {
   "cell_type": "code",
   "execution_count": 25,
   "id": "9b2fa112",
   "metadata": {},
   "outputs": [
    {
     "data": {
      "text/plain": [
       "\"I'm gonna be home soon and i don't want to talk about this stuff anymore tonight, k? I've cried enough today.\""
      ]
     },
     "execution_count": 25,
     "metadata": {},
     "output_type": "execute_result"
    }
   ],
   "source": [
    "random"
   ]
  },
  {
   "cell_type": "code",
   "execution_count": 26,
   "id": "a88d8894",
   "metadata": {},
   "outputs": [],
   "source": [
    "import re"
   ]
  },
  {
   "cell_type": "code",
   "execution_count": 27,
   "id": "6f135ec0",
   "metadata": {},
   "outputs": [
    {
     "data": {
      "text/plain": [
       "'I m gonna be home soon and i don t want to talk about this stuff anymore tonight  k  I ve cried enough today '"
      ]
     },
     "execution_count": 27,
     "metadata": {},
     "output_type": "execute_result"
    }
   ],
   "source": [
    "remove_special_char(random)"
   ]
  },
  {
   "cell_type": "code",
   "execution_count": 28,
   "id": "19e65fcb",
   "metadata": {},
   "outputs": [
    {
     "data": {
      "text/plain": [
       "\"i'm gonna be home soon and i don't want to talk about this stuff anymore tonight, k? i've cried enough today.\""
      ]
     },
     "execution_count": 28,
     "metadata": {},
     "output_type": "execute_result"
    }
   ],
   "source": [
    "lower_char(random)"
   ]
  },
  {
   "cell_type": "code",
   "execution_count": 29,
   "id": "53dbf6e5",
   "metadata": {},
   "outputs": [
    {
     "data": {
      "text/plain": [
       "['I',\n",
       " \"'m\",\n",
       " 'gon',\n",
       " 'na',\n",
       " 'be',\n",
       " 'home',\n",
       " 'soon',\n",
       " 'and',\n",
       " 'i',\n",
       " 'do',\n",
       " \"n't\",\n",
       " 'want',\n",
       " 'to',\n",
       " 'talk',\n",
       " 'about',\n",
       " 'this',\n",
       " 'stuff',\n",
       " 'anymore',\n",
       " 'tonight',\n",
       " ',',\n",
       " 'k',\n",
       " '?',\n",
       " 'I',\n",
       " \"'ve\",\n",
       " 'cried',\n",
       " 'enough',\n",
       " 'today',\n",
       " '.']"
      ]
     },
     "execution_count": 29,
     "metadata": {},
     "output_type": "execute_result"
    }
   ],
   "source": [
    "split_words(random)"
   ]
  },
  {
   "cell_type": "code",
   "execution_count": 30,
   "id": "c704482f",
   "metadata": {},
   "outputs": [
    {
     "data": {
      "text/plain": [
       "['I',\n",
       " \"'\",\n",
       " ' ',\n",
       " 'g',\n",
       " 'n',\n",
       " 'n',\n",
       " ' ',\n",
       " 'b',\n",
       " 'e',\n",
       " ' ',\n",
       " 'h',\n",
       " 'e',\n",
       " ' ',\n",
       " 'n',\n",
       " ' ',\n",
       " 'n',\n",
       " ' ',\n",
       " ' ',\n",
       " 'n',\n",
       " \"'\",\n",
       " ' ',\n",
       " 'w',\n",
       " 'n',\n",
       " ' ',\n",
       " ' ',\n",
       " 'l',\n",
       " 'k',\n",
       " ' ',\n",
       " 'b',\n",
       " 'u',\n",
       " ' ',\n",
       " 'h',\n",
       " ' ',\n",
       " 'u',\n",
       " 'f',\n",
       " 'f',\n",
       " ' ',\n",
       " 'n',\n",
       " 'r',\n",
       " 'e',\n",
       " ' ',\n",
       " 'n',\n",
       " 'g',\n",
       " 'h',\n",
       " ',',\n",
       " ' ',\n",
       " 'k',\n",
       " '?',\n",
       " ' ',\n",
       " 'I',\n",
       " \"'\",\n",
       " 'v',\n",
       " 'e',\n",
       " ' ',\n",
       " 'c',\n",
       " 'r',\n",
       " 'e',\n",
       " ' ',\n",
       " 'e',\n",
       " 'n',\n",
       " 'u',\n",
       " 'g',\n",
       " 'h',\n",
       " ' ',\n",
       " '.']"
      ]
     },
     "execution_count": 30,
     "metadata": {},
     "output_type": "execute_result"
    }
   ],
   "source": [
    "remove_stopword(random)"
   ]
  },
  {
   "cell_type": "code",
   "execution_count": 31,
   "id": "ca054c24",
   "metadata": {},
   "outputs": [
    {
     "data": {
      "text/plain": [
       "['I',\n",
       " \"'\",\n",
       " 'm',\n",
       " ' ',\n",
       " 'g',\n",
       " 'o',\n",
       " 'n',\n",
       " 'n',\n",
       " 'a',\n",
       " ' ',\n",
       " 'b',\n",
       " 'e',\n",
       " ' ',\n",
       " 'h',\n",
       " 'o',\n",
       " 'm',\n",
       " 'e',\n",
       " ' ',\n",
       " 's',\n",
       " 'o',\n",
       " 'o',\n",
       " 'n',\n",
       " ' ',\n",
       " 'a',\n",
       " 'n',\n",
       " 'd',\n",
       " ' ',\n",
       " 'i',\n",
       " ' ',\n",
       " 'd',\n",
       " 'o',\n",
       " 'n',\n",
       " \"'\",\n",
       " 't',\n",
       " ' ',\n",
       " 'w',\n",
       " 'a',\n",
       " 'n',\n",
       " 't',\n",
       " ' ',\n",
       " 't',\n",
       " 'o',\n",
       " ' ',\n",
       " 't',\n",
       " 'a',\n",
       " 'l',\n",
       " 'k',\n",
       " ' ',\n",
       " 'a',\n",
       " 'b',\n",
       " 'o',\n",
       " 'u',\n",
       " 't',\n",
       " ' ',\n",
       " 't',\n",
       " 'h',\n",
       " 'i',\n",
       " 's',\n",
       " ' ',\n",
       " 's',\n",
       " 't',\n",
       " 'u',\n",
       " 'f',\n",
       " 'f',\n",
       " ' ',\n",
       " 'a',\n",
       " 'n',\n",
       " 'y',\n",
       " 'm',\n",
       " 'o',\n",
       " 'r',\n",
       " 'e',\n",
       " ' ',\n",
       " 't',\n",
       " 'o',\n",
       " 'n',\n",
       " 'i',\n",
       " 'g',\n",
       " 'h',\n",
       " 't',\n",
       " ',',\n",
       " ' ',\n",
       " 'k',\n",
       " '?',\n",
       " ' ',\n",
       " 'I',\n",
       " \"'\",\n",
       " 'v',\n",
       " 'e',\n",
       " ' ',\n",
       " 'c',\n",
       " 'r',\n",
       " 'i',\n",
       " 'e',\n",
       " 'd',\n",
       " ' ',\n",
       " 'e',\n",
       " 'n',\n",
       " 'o',\n",
       " 'u',\n",
       " 'g',\n",
       " 'h',\n",
       " ' ',\n",
       " 't',\n",
       " 'o',\n",
       " 'd',\n",
       " 'a',\n",
       " 'y',\n",
       " '.']"
      ]
     },
     "execution_count": 31,
     "metadata": {},
     "output_type": "execute_result"
    }
   ],
   "source": [
    "lemmatizer_message(random)"
   ]
  },
  {
   "cell_type": "code",
   "execution_count": 32,
   "id": "fe3e64ac",
   "metadata": {},
   "outputs": [
    {
     "data": {
      "text/plain": [
       "\"I ' m   g o n n a   b e   h o m e   s o o n   a n d   i   d o n ' t   w a n t   t o   t a l k   a b o u t   t h i s   s t u f f   a n y m o r e   t o n i g h t ,   k ?   I ' v e   c r i e d   e n o u g h   t o d a y .\""
      ]
     },
     "execution_count": 32,
     "metadata": {},
     "output_type": "execute_result"
    }
   ],
   "source": [
    "random = lemmatizer_message(random)\n",
    "join_message(random)"
   ]
  },
  {
   "cell_type": "code",
   "execution_count": 33,
   "id": "d6317c76",
   "metadata": {},
   "outputs": [],
   "source": [
    "def clean_all_message(message):\n",
    "  message = remove_special_char(message)\n",
    "  message = lower_char(message)\n",
    "  message = split_words(message)\n",
    "  message = remove_stopword(message)\n",
    "  message = join_message(message)\n",
    "  return message"
   ]
  },
  {
   "cell_type": "code",
   "execution_count": 34,
   "id": "9717bdf0",
   "metadata": {},
   "outputs": [],
   "source": [
    "df['Message'] = df['Message'].apply(clean_all_message)"
   ]
  },
  {
   "cell_type": "code",
   "execution_count": 35,
   "id": "77626f38",
   "metadata": {},
   "outputs": [
    {
     "data": {
      "text/html": [
       "<div>\n",
       "<style scoped>\n",
       "    .dataframe tbody tr th:only-of-type {\n",
       "        vertical-align: middle;\n",
       "    }\n",
       "\n",
       "    .dataframe tbody tr th {\n",
       "        vertical-align: top;\n",
       "    }\n",
       "\n",
       "    .dataframe thead th {\n",
       "        text-align: right;\n",
       "    }\n",
       "</style>\n",
       "<table border=\"1\" class=\"dataframe\">\n",
       "  <thead>\n",
       "    <tr style=\"text-align: right;\">\n",
       "      <th></th>\n",
       "      <th>Category</th>\n",
       "      <th>Message</th>\n",
       "    </tr>\n",
       "  </thead>\n",
       "  <tbody>\n",
       "    <tr>\n",
       "      <th>0</th>\n",
       "      <td>1</td>\n",
       "      <td>go jurong point crazy available bugis n great ...</td>\n",
       "    </tr>\n",
       "    <tr>\n",
       "      <th>1</th>\n",
       "      <td>1</td>\n",
       "      <td>ok lar joking wif u oni</td>\n",
       "    </tr>\n",
       "    <tr>\n",
       "      <th>2</th>\n",
       "      <td>0</td>\n",
       "      <td>free entry wkly comp win fa cup final tkts st ...</td>\n",
       "    </tr>\n",
       "    <tr>\n",
       "      <th>3</th>\n",
       "      <td>1</td>\n",
       "      <td>u dun say early hor u c already say</td>\n",
       "    </tr>\n",
       "    <tr>\n",
       "      <th>4</th>\n",
       "      <td>1</td>\n",
       "      <td>nah think goes usf lives around though</td>\n",
       "    </tr>\n",
       "  </tbody>\n",
       "</table>\n",
       "</div>"
      ],
      "text/plain": [
       "   Category                                            Message\n",
       "0         1  go jurong point crazy available bugis n great ...\n",
       "1         1                            ok lar joking wif u oni\n",
       "2         0  free entry wkly comp win fa cup final tkts st ...\n",
       "3         1                u dun say early hor u c already say\n",
       "4         1             nah think goes usf lives around though"
      ]
     },
     "execution_count": 35,
     "metadata": {},
     "output_type": "execute_result"
    }
   ],
   "source": [
    "df.head()"
   ]
  },
  {
   "cell_type": "code",
   "execution_count": 36,
   "id": "3bb0a703",
   "metadata": {},
   "outputs": [],
   "source": [
    "import numpy as np"
   ]
  },
  {
   "cell_type": "code",
   "execution_count": 37,
   "id": "55ad12c4",
   "metadata": {},
   "outputs": [],
   "source": [
    "message = np.asarray(df['Message'])\n",
    "labels = np.asarray(df['Category'])"
   ]
  },
  {
   "cell_type": "code",
   "execution_count": 38,
   "id": "27a8445d",
   "metadata": {},
   "outputs": [
    {
     "data": {
      "text/plain": [
       "5572"
      ]
     },
     "execution_count": 38,
     "metadata": {},
     "output_type": "execute_result"
    }
   ],
   "source": [
    "len(message)\n",
    "len(labels)"
   ]
  },
  {
   "cell_type": "code",
   "execution_count": 39,
   "id": "14b6fb37",
   "metadata": {},
   "outputs": [],
   "source": [
    "from keras.layers import SimpleRNN, Embedding, Dense, LSTM\n",
    "from keras.models import Sequential\n",
    "\n",
    "from keras.preprocessing.text import Tokenizer\n",
    "from keras.preprocessing.sequence import pad_sequences"
   ]
  },
  {
   "cell_type": "code",
   "execution_count": 40,
   "id": "48841479",
   "metadata": {},
   "outputs": [],
   "source": [
    "#tokenizer to convert text to token"
   ]
  },
  {
   "cell_type": "code",
   "execution_count": 41,
   "id": "4b5b867e",
   "metadata": {},
   "outputs": [],
   "source": [
    "tk = Tokenizer()"
   ]
  },
  {
   "cell_type": "code",
   "execution_count": 42,
   "id": "ced5c816",
   "metadata": {},
   "outputs": [],
   "source": [
    "tk.fit_on_texts(message)"
   ]
  },
  {
   "cell_type": "code",
   "execution_count": 43,
   "id": "f22fd56c",
   "metadata": {},
   "outputs": [],
   "source": [
    "seq = tk.texts_to_sequences(message)"
   ]
  },
  {
   "cell_type": "code",
   "execution_count": 44,
   "id": "a843d1b1",
   "metadata": {},
   "outputs": [],
   "source": [
    "w_i = tk.word_index"
   ]
  },
  {
   "cell_type": "code",
   "execution_count": 45,
   "id": "613bd1ff",
   "metadata": {},
   "outputs": [
    {
     "data": {
      "text/plain": [
       "7637"
      ]
     },
     "execution_count": 45,
     "metadata": {},
     "output_type": "execute_result"
    }
   ],
   "source": [
    "len(w_i)"
   ]
  },
  {
   "cell_type": "code",
   "execution_count": 46,
   "id": "13f3c201",
   "metadata": {},
   "outputs": [],
   "source": [
    "maxLength = 500"
   ]
  },
  {
   "cell_type": "code",
   "execution_count": 47,
   "id": "b86dcbc6",
   "metadata": {},
   "outputs": [],
   "source": [
    "message = pad_sequences(seq, maxlen=maxLength)"
   ]
  },
  {
   "cell_type": "code",
   "execution_count": 48,
   "id": "ad14b62e",
   "metadata": {},
   "outputs": [
    {
     "data": {
      "text/plain": [
       "(5572, 500)"
      ]
     },
     "execution_count": 48,
     "metadata": {},
     "output_type": "execute_result"
    }
   ],
   "source": [
    "message.shape"
   ]
  },
  {
   "cell_type": "code",
   "execution_count": 49,
   "id": "bdb07f56",
   "metadata": {},
   "outputs": [],
   "source": [
    "from sklearn.model_selection import train_test_split"
   ]
  },
  {
   "cell_type": "code",
   "execution_count": 50,
   "id": "1ff21530",
   "metadata": {},
   "outputs": [],
   "source": [
    "train_msg, test_msg, train_labels, test_labels = train_test_split(message, labels, test_size=0.2, random_state=42)"
   ]
  },
  {
   "cell_type": "code",
   "execution_count": 51,
   "id": "5509363b",
   "metadata": {},
   "outputs": [],
   "source": [
    "maxFeature = 10000"
   ]
  },
  {
   "cell_type": "code",
   "execution_count": 52,
   "id": "e9c2e402",
   "metadata": {},
   "outputs": [],
   "source": [
    "model = Sequential()"
   ]
  },
  {
   "cell_type": "code",
   "execution_count": 53,
   "id": "bbf9b4ed",
   "metadata": {},
   "outputs": [],
   "source": [
    "model.add(Embedding(maxFeature, 32))\n",
    "model.add(SimpleRNN(32))\n",
    "model.add(Dense(1, activation='sigmoid'))"
   ]
  },
  {
   "cell_type": "code",
   "execution_count": 54,
   "id": "17862f7c",
   "metadata": {},
   "outputs": [
    {
     "name": "stdout",
     "output_type": "stream",
     "text": [
      "Model: \"sequential\"\n",
      "_________________________________________________________________\n",
      " Layer (type)                Output Shape              Param #   \n",
      "=================================================================\n",
      " embedding (Embedding)       (None, None, 32)          320000    \n",
      "                                                                 \n",
      " simple_rnn (SimpleRNN)      (None, 32)                2080      \n",
      "                                                                 \n",
      " dense (Dense)               (None, 1)                 33        \n",
      "                                                                 \n",
      "=================================================================\n",
      "Total params: 322,113\n",
      "Trainable params: 322,113\n",
      "Non-trainable params: 0\n",
      "_________________________________________________________________\n"
     ]
    }
   ],
   "source": [
    "model.summary()"
   ]
  },
  {
   "cell_type": "code",
   "execution_count": 55,
   "id": "da02b99f",
   "metadata": {},
   "outputs": [],
   "source": [
    "model.compile(optimizer='rmsprop', loss='binary_crossentropy', metrics=['acc'])"
   ]
  },
  {
   "cell_type": "code",
   "execution_count": 56,
   "id": "1798cfe1",
   "metadata": {},
   "outputs": [
    {
     "name": "stdout",
     "output_type": "stream",
     "text": [
      "Epoch 1/10\n",
      "60/60 [==============================] - 17s 228ms/step - loss: 0.3665 - acc: 0.8626 - val_loss: 0.2270 - val_acc: 0.9439\n",
      "Epoch 2/10\n",
      "60/60 [==============================] - 12s 202ms/step - loss: 0.1283 - acc: 0.9655 - val_loss: 0.1186 - val_acc: 0.9630\n",
      "Epoch 3/10\n",
      "60/60 [==============================] - 12s 204ms/step - loss: 0.2975 - acc: 0.8519 - val_loss: 0.3455 - val_acc: 0.8823\n",
      "Epoch 4/10\n",
      "60/60 [==============================] - 12s 195ms/step - loss: 0.1937 - acc: 0.9189 - val_loss: 0.0946 - val_acc: 0.9675\n",
      "Epoch 5/10\n",
      "60/60 [==============================] - 12s 204ms/step - loss: 0.0475 - acc: 0.9871 - val_loss: 0.0737 - val_acc: 0.9753\n",
      "Epoch 6/10\n",
      "60/60 [==============================] - 11s 181ms/step - loss: 0.0244 - acc: 0.9930 - val_loss: 0.0683 - val_acc: 0.9787\n",
      "Epoch 7/10\n",
      "60/60 [==============================] - 12s 203ms/step - loss: 0.0215 - acc: 0.9930 - val_loss: 0.1654 - val_acc: 0.9339\n",
      "Epoch 8/10\n",
      "60/60 [==============================] - 12s 192ms/step - loss: 0.0158 - acc: 0.9961 - val_loss: 0.0697 - val_acc: 0.9798\n",
      "Epoch 9/10\n",
      "60/60 [==============================] - 12s 193ms/step - loss: 0.0088 - acc: 0.9978 - val_loss: 0.0739 - val_acc: 0.9809\n",
      "Epoch 10/10\n",
      "60/60 [==============================] - 12s 204ms/step - loss: 0.0065 - acc: 0.9980 - val_loss: 0.0960 - val_acc: 0.9776\n"
     ]
    }
   ],
   "source": [
    "history = model.fit(train_msg, train_labels, epochs=10, batch_size=60, validation_split=0.2)"
   ]
  },
  {
   "cell_type": "code",
   "execution_count": 57,
   "id": "aad8f3a2",
   "metadata": {},
   "outputs": [
    {
     "name": "stdout",
     "output_type": "stream",
     "text": [
      "35/35 [==============================] - 1s 39ms/step - loss: 0.0528 - acc: 0.9883\n"
     ]
    },
    {
     "data": {
      "text/plain": [
       "[0.052833132445812225, 0.9883407950401306]"
      ]
     },
     "execution_count": 57,
     "metadata": {},
     "output_type": "execute_result"
    }
   ],
   "source": [
    "model.evaluate(test_msg, test_labels)"
   ]
  },
  {
   "cell_type": "code",
   "execution_count": 58,
   "id": "9de81661",
   "metadata": {},
   "outputs": [],
   "source": [
    "import matplotlib.pyplot as plt"
   ]
  },
  {
   "cell_type": "code",
   "execution_count": 59,
   "id": "f5756111",
   "metadata": {},
   "outputs": [
    {
     "data": {
      "image/png": "[encoded data removed]",
      "text/plain": [
       "<Figure size 432x288 with 1 Axes>"
      ]
     },
     "metadata": {
      "needs_background": "light"
     },
     "output_type": "display_data"
    },
    {
     "data": {
      "text/plain": [
       "<Figure size 432x288 with 0 Axes>"
      ]
     },
     "metadata": {},
     "output_type": "display_data"
    }
   ],
   "source": [
    "plt.clf()\n",
    "plt.plot(history.history['acc'])\n",
    "plt.plot(history.history['val_acc'])\n",
    "plt.title('model accuracy')\n",
    "plt.ylabel('accuracy')\n",
    "plt.xlabel('epoch')\n",
    "plt.legend(['train', 'test'], loc='upper left')\n",
    "plt.show()\n",
    "plt.savefig('acc.png')\n",
    "plt.clf()"
   ]
  },
  {
   "cell_type": "code",
   "execution_count": 60,
   "id": "bd6a6b32",
   "metadata": {},
   "outputs": [
    {
     "data": {
      "image/png": "[encoded data removed]",
      "text/plain": [
       "<Figure size 432x288 with 1 Axes>"
      ]
     },
     "metadata": {
      "needs_background": "light"
     },
     "output_type": "display_data"
    },
    {
     "data": {
      "text/plain": [
       "<Figure size 432x288 with 0 Axes>"
      ]
     },
     "metadata": {},
     "output_type": "display_data"
    }
   ],
   "source": [
    "plt.plot(history.history['loss'])\n",
    "plt.plot(history.history['val_loss'])\n",
    "plt.title('model loss')\n",
    "plt.ylabel('loss')\n",
    "plt.xlabel('epoch')\n",
    "plt.legend(['train', 'test'], loc='upper left')\n",
    "plt.show()\n",
    "plt.savefig('loss.png')\n",
    "plt.clf()"
   ]
  },
  {
   "cell_type": "code",
   "execution_count": 61,
   "id": "7fb9f007",
   "metadata": {},
   "outputs": [],
   "source": [
    "pred = model.predict(test_msg)"
   ]
  },
  {
   "cell_type": "code",
   "execution_count": 62,
   "id": "17f7cc6d",
   "metadata": {},
   "outputs": [
    {
     "data": {
      "text/plain": [
       "array([[0.99926686],\n",
       "       [0.9934935 ],\n",
       "       [0.99723613],\n",
       "       ...,\n",
       "       [0.9996512 ],\n",
       "       [0.9997401 ],\n",
       "       [0.92211795]], dtype=float32)"
      ]
     },
     "execution_count": 62,
     "metadata": {},
     "output_type": "execute_result"
    }
   ],
   "source": [
    "pred"
   ]
  },
  {
   "cell_type": "code",
   "execution_count": 63,
   "id": "be2c17ec",
   "metadata": {},
   "outputs": [
    {
     "data": {
      "text/plain": [
       "array([1, 1, 1, ..., 1, 1, 1], dtype=int64)"
      ]
     },
     "execution_count": 63,
     "metadata": {},
     "output_type": "execute_result"
    }
   ],
   "source": [
    "test_labels"
   ]
  },
  {
   "cell_type": "code",
   "execution_count": 64,
   "id": "eba0b814",
   "metadata": {},
   "outputs": [],
   "source": [
    "from sklearn.metrics import confusion_matrix"
   ]
  },
  {
   "cell_type": "code",
   "execution_count": 65,
   "id": "2ecfcb1c",
   "metadata": {},
   "outputs": [],
   "source": [
    "cfm = confusion_matrix(pred.round(), test_labels)"
   ]
  },
  {
   "cell_type": "code",
   "execution_count": 66,
   "id": "96bc62cf",
   "metadata": {},
   "outputs": [],
   "source": [
    "import seaborn as sns"
   ]
  },
  {
   "cell_type": "code",
   "execution_count": 67,
   "id": "81df83d7",
   "metadata": {},
   "outputs": [
    {
     "data": {
      "text/plain": [
       "<AxesSubplot:>"
      ]
     },
     "execution_count": 67,
     "metadata": {},
     "output_type": "execute_result"
    },
    {
     "data": {
      "image/png": "[encoded data removed]",
      "text/plain": [
       "<Figure size 432x288 with 2 Axes>"
      ]
     },
     "metadata": {
      "needs_background": "light"
     },
     "output_type": "display_data"
    }
   ],
   "source": [
    "sns.heatmap(cfm, annot=True,cmap='Blues', fmt='g')"
   ]
  },
  {
   "cell_type": "code",
   "execution_count": 68,
   "id": "cd31cb88",
   "metadata": {},
   "outputs": [
    {
     "name": "stdout",
     "output_type": "stream",
     "text": [
      "hii mate are you coming to class\n"
     ]
    }
   ],
   "source": [
    "ham_message = input()"
   ]
  },
  {
   "cell_type": "code",
   "execution_count": 69,
   "id": "be1c5647",
   "metadata": {},
   "outputs": [],
   "source": [
    "ham_message = clean_all_message(ham_message)"
   ]
  },
  {
   "cell_type": "code",
   "execution_count": 70,
   "id": "1fb8c8a1",
   "metadata": {},
   "outputs": [],
   "source": [
    "ham_seq = tk.texts_to_sequences([ham_message])"
   ]
  },
  {
   "cell_type": "code",
   "execution_count": 71,
   "id": "d4d82721",
   "metadata": {},
   "outputs": [],
   "source": [
    "ham_seq = pad_sequences(ham_seq, maxlen=maxLength)"
   ]
  },
  {
   "cell_type": "code",
   "execution_count": 72,
   "id": "c456cb8f",
   "metadata": {},
   "outputs": [
    {
     "name": "stdout",
     "output_type": "stream",
     "text": [
      "Ham message\n"
     ]
    }
   ],
   "source": [
    "if model.predict(ham_seq.reshape(1, -1))[0][0]>0.5:\n",
    "    print(\"Ham message\")\n",
    "else:\n",
    "    print(\"Spam message\")"
   ]
  },
  {
   "cell_type": "code",
   "execution_count": 87,
   "id": "89c2607f",
   "metadata": {},
   "outputs": [
    {
     "name": "stdout",
     "output_type": "stream",
     "text": [
      "hii i am pavan\n"
     ]
    }
   ],
   "source": [
    "spam_message = input()"
   ]
  },
  {
   "cell_type": "code",
   "execution_count": 88,
   "id": "760197d9",
   "metadata": {},
   "outputs": [],
   "source": [
    "spam_seq = tk.texts_to_sequences([spam_message])"
   ]
  },
  {
   "cell_type": "code",
   "execution_count": 89,
   "id": "62bd6626",
   "metadata": {},
   "outputs": [],
   "source": [
    "spam_seq = pad_sequences(spam_seq, maxlen=maxLength)"
   ]
  },
  {
   "cell_type": "code",
   "execution_count": 90,
   "id": "552afdd8",
   "metadata": {},
   "outputs": [
    {
     "name": "stdout",
     "output_type": "stream",
     "text": [
      "Spam message\n"
     ]
    }
   ],
   "source": [
    "if model.predict(spam_seq.reshape(1, -1))[0][0]>0.5:\n",
    "    print(\"Ham message\")\n",
    "else:\n",
    "    print(\"Spam message\")"
   ]
  },
  {
   "cell_type": "code",
   "execution_count": 78,
   "id": "e617a783",
   "metadata": {},
   "outputs": [
    {
     "data": {
      "text/plain": [
       "1    4825\n",
       "0     747\n",
       "Name: Category, dtype: int64"
      ]
     },
     "execution_count": 78,
     "metadata": {},
     "output_type": "execute_result"
    }
   ],
   "source": [
    "df['Category'].value_counts()"
   ]
  },
  {
   "cell_type": "code",
   "execution_count": null,
   "id": "c7372ae0",
   "metadata": {},
   "outputs": [],
   "source": []
  }
 ],
 "metadata": {
  "kernelspec": {
   "display_name": "Python 3",
   "language": "python",
   "name": "python3"
  },
  "language_info": {
   "codemirror_mode": {
    "name": "ipython",
    "version": 3
   },
   "file_extension": ".py",
   "mimetype": "text/x-python",
   "name": "python",
   "nbconvert_exporter": "python",
   "pygments_lexer": "ipython3",
   "version": "3.8.8"
  }
 },
 "nbformat": 4,
 "nbformat_minor": 5
}
